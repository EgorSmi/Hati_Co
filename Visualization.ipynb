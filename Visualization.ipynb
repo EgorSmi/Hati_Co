{
 "cells": [
  {
   "cell_type": "markdown",
   "id": "controlling-apartment",
   "metadata": {},
   "source": [
    "## Install"
   ]
  },
  {
   "cell_type": "code",
   "execution_count": 1,
   "id": "distant-collection",
   "metadata": {
    "scrolled": true
   },
   "outputs": [
    {
     "name": "stdout",
     "output_type": "stream",
     "text": [
      "Collecting folium\n",
      "  Downloading folium-0.12.1-py2.py3-none-any.whl (94 kB)\n",
      "\u001b[K     |████████████████████████████████| 94 kB 1.6 MB/s eta 0:00:01\n",
      "\u001b[?25hRequirement already satisfied: requests in /Users/egor.smirnov/miniconda3/envs/ranking-37/lib/python3.7/site-packages (from folium) (2.26.0)\n",
      "Collecting branca>=0.3.0\n",
      "  Downloading branca-0.4.2-py3-none-any.whl (24 kB)\n",
      "Requirement already satisfied: numpy in /Users/egor.smirnov/miniconda3/envs/ranking-37/lib/python3.7/site-packages (from folium) (1.21.2)\n",
      "Requirement already satisfied: jinja2>=2.9 in /Users/egor.smirnov/miniconda3/envs/ranking-37/lib/python3.7/site-packages (from folium) (3.0.2)\n",
      "Requirement already satisfied: MarkupSafe>=2.0 in /Users/egor.smirnov/miniconda3/envs/ranking-37/lib/python3.7/site-packages (from jinja2>=2.9->folium) (2.0.1)\n",
      "Requirement already satisfied: charset-normalizer~=2.0.0 in /Users/egor.smirnov/miniconda3/envs/ranking-37/lib/python3.7/site-packages (from requests->folium) (2.0.6)\n",
      "Requirement already satisfied: idna<4,>=2.5 in /Users/egor.smirnov/miniconda3/envs/ranking-37/lib/python3.7/site-packages (from requests->folium) (3.2)\n",
      "Requirement already satisfied: certifi>=2017.4.17 in /Users/egor.smirnov/miniconda3/envs/ranking-37/lib/python3.7/site-packages (from requests->folium) (2021.5.30)\n",
      "Requirement already satisfied: urllib3<1.27,>=1.21.1 in /Users/egor.smirnov/miniconda3/envs/ranking-37/lib/python3.7/site-packages (from requests->folium) (1.26.7)\n",
      "Installing collected packages: branca, folium\n",
      "Successfully installed branca-0.4.2 folium-0.12.1\n"
     ]
    }
   ],
   "source": [
    "!pip install folium"
   ]
  },
  {
   "cell_type": "markdown",
   "id": "pediatric-showcase",
   "metadata": {},
   "source": [
    "## Import"
   ]
  },
  {
   "cell_type": "code",
   "execution_count": 2,
   "id": "adaptive-copying",
   "metadata": {},
   "outputs": [],
   "source": [
    "import folium\n",
    "import json\n",
    "from tqdm.notebook import tqdm\n",
    "from folium.plugins import MarkerCluster"
   ]
  },
  {
   "cell_type": "code",
   "execution_count": 3,
   "id": "rapid-mechanism",
   "metadata": {},
   "outputs": [],
   "source": [
    "with open('/Users/egor.smirnov/Desktop/Хак/data-8174-2021-08-10.json', 'rt', encoding='cp1251') as file:\n",
    "    mmc = json.load(file)"
   ]
  },
  {
   "cell_type": "code",
   "execution_count": 4,
   "id": "918b5600",
   "metadata": {},
   "outputs": [],
   "source": [
    "with open('/Users/egor.smirnov/Desktop/Хак/data-49169-2021-08-12.json', 'rt', encoding='cp1251') as file:\n",
    "    pvn = json.load(file)"
   ]
  },
  {
   "cell_type": "code",
   "execution_count": 5,
   "id": "da63061e",
   "metadata": {},
   "outputs": [],
   "source": [
    "with open('/Users/egor.smirnov/Desktop/Хак/data-8180-2021-08-18.json', 'rt', encoding='cp1251') as file:\n",
    "    dvn = json.load(file)"
   ]
  },
  {
   "cell_type": "code",
   "execution_count": 57,
   "id": "7cdb357f",
   "metadata": {},
   "outputs": [],
   "source": [
    "reestr = mmc + pvn + dvn"
   ]
  },
  {
   "cell_type": "code",
   "execution_count": 58,
   "id": "daily-quantum",
   "metadata": {},
   "outputs": [],
   "source": [
    "reestr_ids = [d[\"ID\"] for d in reestr]"
   ]
  },
  {
   "cell_type": "code",
   "execution_count": 59,
   "id": "cleared-warning",
   "metadata": {},
   "outputs": [],
   "source": [
    "reestr_points = [d[\"geoData\"][\"coordinates\"] for d in reestr]"
   ]
  },
  {
   "cell_type": "code",
   "execution_count": 60,
   "id": "5671314b",
   "metadata": {},
   "outputs": [],
   "source": [
    "assert(len(reestr_ids) == len(set(reestr_ids)))"
   ]
  },
  {
   "cell_type": "code",
   "execution_count": 61,
   "id": "4986b229",
   "metadata": {},
   "outputs": [],
   "source": [
    "assert(len(reestr_ids) == len(reestr_points))"
   ]
  },
  {
   "cell_type": "code",
   "execution_count": 62,
   "id": "rental-headset",
   "metadata": {},
   "outputs": [],
   "source": [
    "m = folium.Map(location=[55.750898, 37.621754], zoom_start=10)"
   ]
  },
  {
   "cell_type": "code",
   "execution_count": 63,
   "id": "endless-tuesday",
   "metadata": {},
   "outputs": [],
   "source": [
    "feature_group_dataset = folium.FeatureGroup(name='Камеры видеонаблюдения', show=True)"
   ]
  },
  {
   "cell_type": "code",
   "execution_count": 64,
   "id": "satisfied-excerpt",
   "metadata": {},
   "outputs": [],
   "source": [
    "marker_cluster_dataset = MarkerCluster(name='clusters', \n",
    "                                   popups='Городские камеры видеонаблюдения', \n",
    "                                   show=True)"
   ]
  },
  {
   "cell_type": "code",
   "execution_count": 65,
   "id": "0e921c25",
   "metadata": {},
   "outputs": [],
   "source": [
    "dataset_points = reestr_points\n",
    "dataset_ids = reestr_ids"
   ]
  },
  {
   "cell_type": "code",
   "execution_count": 66,
   "id": "emerging-large",
   "metadata": {},
   "outputs": [],
   "source": [
    "for points, ids in zip(dataset_points, dataset_ids):\n",
    "    points[0], points[1] = points[1], points[0]\n",
    "    marker = folium.Marker(points, popup = ids, icon=folium.Icon(color='green',icon='ok-sign'))\n",
    "    marker_cluster_dataset.add_child(marker)"
   ]
  },
  {
   "cell_type": "code",
   "execution_count": 67,
   "id": "cellular-education",
   "metadata": {},
   "outputs": [],
   "source": [
    "#feature_group_all.add_child(marker_cluster_all)"
   ]
  },
  {
   "cell_type": "code",
   "execution_count": 68,
   "id": "original-navigator",
   "metadata": {},
   "outputs": [
    {
     "data": {
      "text/plain": [
       "<folium.map.FeatureGroup at 0x7f82ceb9b510>"
      ]
     },
     "execution_count": 68,
     "metadata": {},
     "output_type": "execute_result"
    }
   ],
   "source": [
    "feature_group_dataset.add_child(marker_cluster_dataset)"
   ]
  },
  {
   "cell_type": "code",
   "execution_count": 69,
   "id": "indian-occupation",
   "metadata": {},
   "outputs": [],
   "source": [
    "#feature_group_all.add_to(m)"
   ]
  },
  {
   "cell_type": "code",
   "execution_count": 70,
   "id": "sixth-citizen",
   "metadata": {},
   "outputs": [
    {
     "data": {
      "text/plain": [
       "<folium.map.FeatureGroup at 0x7f82ceb9b510>"
      ]
     },
     "execution_count": 70,
     "metadata": {},
     "output_type": "execute_result"
    }
   ],
   "source": [
    "feature_group_dataset.add_to(m)"
   ]
  },
  {
   "cell_type": "code",
   "execution_count": 71,
   "id": "aggregate-bhutan",
   "metadata": {},
   "outputs": [],
   "source": [
    "m.save('reestr_map.html')"
   ]
  },
  {
   "cell_type": "code",
   "execution_count": null,
   "id": "wrong-heater",
   "metadata": {},
   "outputs": [],
   "source": []
  }
 ],
 "metadata": {
  "kernelspec": {
   "display_name": "Python 3 (ipykernel)",
   "language": "python",
   "name": "python3"
  },
  "language_info": {
   "codemirror_mode": {
    "name": "ipython",
    "version": 3
   },
   "file_extension": ".py",
   "mimetype": "text/x-python",
   "name": "python",
   "nbconvert_exporter": "python",
   "pygments_lexer": "ipython3",
   "version": "3.7.11"
  }
 },
 "nbformat": 4,
 "nbformat_minor": 5
}
